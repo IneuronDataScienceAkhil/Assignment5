{
 "cells": [
  {
   "cell_type": "markdown",
   "id": "c55f3c06",
   "metadata": {},
   "source": [
    "1. What does an empty dictionary code look like?\n",
    "\n",
    "Ans:- For Creating an Empty Dictionary We Use {}. This mean the Empty Dictionary \n",
    "\n",
    "Example are shown below "
   ]
  },
  {
   "cell_type": "code",
   "execution_count": 1,
   "id": "c40bc1f5",
   "metadata": {},
   "outputs": [
    {
     "data": {
      "text/plain": [
       "dict"
      ]
     },
     "execution_count": 1,
     "metadata": {},
     "output_type": "execute_result"
    }
   ],
   "source": [
    "dic={}\n",
    "type(dic)"
   ]
  },
  {
   "cell_type": "markdown",
   "id": "6418f859",
   "metadata": {},
   "source": [
    "2. What is the value of a dictionary value with the key 'foo' and the value 42?\n",
    "\n",
    "Ans:-The Dictionary always have in key value pair. The first One is key followed by the value.\n",
    "\n",
    "Example:>>  dic={'foo':42}"
   ]
  },
  {
   "cell_type": "code",
   "execution_count": 2,
   "id": "97dd516a",
   "metadata": {},
   "outputs": [],
   "source": [
    "dic={'foo':42}"
   ]
  },
  {
   "cell_type": "code",
   "execution_count": 6,
   "id": "668496d3",
   "metadata": {},
   "outputs": [
    {
     "data": {
      "text/plain": [
       "42"
      ]
     },
     "execution_count": 6,
     "metadata": {},
     "output_type": "execute_result"
    }
   ],
   "source": [
    "dic['foo']  # for finding the value of any key we use indexing with the help of it's key\n"
   ]
  },
  {
   "cell_type": "markdown",
   "id": "9ea3d86f",
   "metadata": {},
   "source": [
    "3. What is the most significant distinction between a dictionary and a list?\n",
    "\n",
    "Ans:- The most significant distinction between a dictionary and a list is that the dictionary always contains key and value pair while a list never contain a key value pair .A list is a hetrogeneous type data structure Under python .We can retrive value of list with the help of indexing but not in the dictionary "
   ]
  },
  {
   "cell_type": "markdown",
   "id": "8dbfb64d",
   "metadata": {},
   "source": [
    "4. what happen if you try to access spam['foo'] if spam is {'bar':100} ?\n",
    "\n",
    "Ans:- When we are going to access spam['foo'] in spam it gives KeyError because 'foo' key is not present in spam variable "
   ]
  },
  {
   "cell_type": "markdown",
   "id": "02e96fa1",
   "metadata": {},
   "source": [
    "5. If a dictionary is stored in spam, what is the difference between the expressions 'cat' in spam and 'cat' in spam.keys()?\n",
    "\n",
    "Ans:- The first Expression 'cat' in spam means that it check whether the key 'cat' is present in the spam variable of dictionary Or not if it present it return True else False. And the second expression 'cat' in spam.keys() return the same things it also check that the 'cat' is present in the spam variable of dictionary or not if present return True else return False.\n",
    "\n",
    "So there is no any difference between the two expression ."
   ]
  },
  {
   "cell_type": "markdown",
   "id": "38eb7835",
   "metadata": {},
   "source": [
    "6. If a dictionary is stored in spam, what is the difference between the expressions 'cat' in spam and 'cat' in spam.values()?\n",
    "\n",
    "Ans:- The Expression 'cat' in spam check whether the value of spam expression is cat or not if yes then return True Else return false. while the second expression check whether the cat is in the value of spam variable or not .if it found return True else Return False"
   ]
  },
  {
   "cell_type": "markdown",
   "id": "3d878987",
   "metadata": {},
   "source": [
    "7. What is a shortcut for the following code ?\n",
    "i. if 'color' not in spam ;\n",
    "\n",
    "'color' ! in spam\n",
    "\n",
    "ii. spam['color'] ='black'\n",
    "\n",
    "Ans:- spam.update({'color':'black'})"
   ]
  },
  {
   "cell_type": "markdown",
   "id": "8df6da92",
   "metadata": {},
   "source": [
    "8. How do you \"pretty print\" dictionary values using which module and function?\n",
    "\n",
    "Ans:- There is a a module called 'pprint' under which a function called 'pprint' we use this module and this funtion "
   ]
  },
  {
   "cell_type": "code",
   "execution_count": null,
   "id": "58898ab0",
   "metadata": {},
   "outputs": [],
   "source": []
  }
 ],
 "metadata": {
  "kernelspec": {
   "display_name": "Python 3 (ipykernel)",
   "language": "python",
   "name": "python3"
  },
  "language_info": {
   "codemirror_mode": {
    "name": "ipython",
    "version": 3
   },
   "file_extension": ".py",
   "mimetype": "text/x-python",
   "name": "python",
   "nbconvert_exporter": "python",
   "pygments_lexer": "ipython3",
   "version": "3.9.7"
  }
 },
 "nbformat": 4,
 "nbformat_minor": 5
}
